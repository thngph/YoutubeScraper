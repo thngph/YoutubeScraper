{
  "nbformat": 4,
  "nbformat_minor": 0,
  "metadata": {
    "colab": {
      "name": "SVM_Model.ipynb",
      "provenance": [],
      "collapsed_sections": [],
      "toc_visible": true
    },
    "kernelspec": {
      "name": "python3",
      "display_name": "Python 3"
    },
    "language_info": {
      "name": "python"
    }
  },
  "cells": [
    {
      "cell_type": "code",
      "source": [
        "from google.colab import drive\n",
        "drive.mount('/content/drive')"
      ],
      "metadata": {
        "colab": {
          "base_uri": "https://localhost:8080/"
        },
        "id": "EkexTITuL3Fb",
        "outputId": "07b8a92a-c9c6-4326-b618-d3751e1b1c6b"
      },
      "execution_count": null,
      "outputs": [
        {
          "output_type": "stream",
          "name": "stdout",
          "text": [
            "Drive already mounted at /content/drive; to attempt to forcibly remount, call drive.mount(\"/content/drive\", force_remount=True).\n"
          ]
        }
      ]
    },
    {
      "cell_type": "code",
      "source": [
        "!pip install advertools\n",
        "!pip install pyvi\n",
        "!pip install underthesea"
      ],
      "metadata": {
        "id": "naJSPKLt99J-"
      },
      "execution_count": null,
      "outputs": []
    },
    {
      "cell_type": "code",
      "source": [
        "import pandas as pd\n",
        "import re\n",
        "\n",
        "from underthesea import word_tokenize\n",
        "from pyvi import ViTokenizer"
      ],
      "metadata": {
        "id": "06q81Czr0Pm1"
      },
      "execution_count": null,
      "outputs": []
    },
    {
      "cell_type": "markdown",
      "source": [
        "# Load data"
      ],
      "metadata": {
        "id": "n836VOh8ayss"
      }
    },
    {
      "cell_type": "code",
      "source": [
        "data1 = pd.read_excel(\"/content/drive/MyDrive/Do_An Machine Learning 2022/Data/2_Data_Check_Nhan/1_data_music.xlsx\")\n",
        "data2 = pd.read_excel(\"/content/drive/MyDrive/Do_An Machine Learning 2022/Data/2_Data_Check_Nhan/2_Beautify.xlsx\")\n",
        "data3 = pd.read_excel(\"/content/drive/MyDrive/Do_An Machine Learning 2022/Data/2_Data_Check_Nhan/3_ScienceAndTechnology.xlsx\")\n",
        "data4 = pd.read_excel(\"/content/drive/MyDrive/Do_An Machine Learning 2022/Data/2_Data_Check_Nhan/4_Kids.xlsx\")\n",
        "data5 = pd.read_excel(\"/content/drive/MyDrive/Do_An Machine Learning 2022/Data/2_Data_Check_Nhan/5_Food.xlsx\")\n",
        "\n",
        "data9 = pd.read_excel(\"/content/drive/MyDrive/Do_An Machine Learning 2022/Data/2_Data_Check_Nhan/9_fashion.xlsx\")\n",
        "data10 = pd.read_excel(\"/content/drive/MyDrive/Do_An Machine Learning 2022/Data/2_Data_Check_Nhan/10_education.xlsx\")\n",
        "data11 = pd.read_excel(\"/content/drive/MyDrive/Do_An Machine Learning 2022/Data/2_Data_Check_Nhan/11_Gaming.xlsx\")\n",
        "data12 = pd.read_excel(\"/content/drive/MyDrive/Do_An Machine Learning 2022/Data/2_Data_Check_Nhan/12_Medical.xlsx\")\n",
        "data13 = pd.read_excel(\"/content/drive/MyDrive/Do_An Machine Learning 2022/Data/2_Data_Check_Nhan/13 data_film.xlsx\")"
      ],
      "metadata": {
        "id": "3rgj5mB_0pqL"
      },
      "execution_count": null,
      "outputs": []
    },
    {
      "cell_type": "code",
      "source": [
        "data6 = pd.read_excel(\"/content/drive/MyDrive/Do_An Machine Learning 2022/Data/2_Data_Check_Nhan/6_History.xlsx\")\n",
        "data7 = pd.read_excel(\"/content/drive/MyDrive/Do_An Machine Learning 2022/Data/2_Data_Check_Nhan/7_Travel.xlsx\")\n",
        "data8 = pd.read_excel(\"/content/drive/MyDrive/Do_An Machine Learning 2022/Data/2_Data_Check_Nhan/8_News.xlsx\")\n"
      ],
      "metadata": {
        "id": "-oECJ2vRP5TA"
      },
      "execution_count": null,
      "outputs": []
    },
    {
      "cell_type": "code",
      "source": [
        "data = pd.concat([data1, data2, data3, data4, data5, data6, data7, data8, data9, data10, data11, data12, data13], ignore_index = True)"
      ],
      "metadata": {
        "id": "NvWHIxp8lxzb"
      },
      "execution_count": null,
      "outputs": []
    },
    {
      "cell_type": "code",
      "source": [
        "data = data[[\"Title\", \"Label\"]]"
      ],
      "metadata": {
        "id": "_vM7_dTcFllg"
      },
      "execution_count": null,
      "outputs": []
    },
    {
      "cell_type": "code",
      "source": [
        "data.head()"
      ],
      "metadata": {
        "colab": {
          "base_uri": "https://localhost:8080/",
          "height": 206
        },
        "id": "v5K4uH_lHRqa",
        "outputId": "a9245cae-80f6-423f-91a7-6edfc96d7d47"
      },
      "execution_count": null,
      "outputs": [
        {
          "output_type": "execute_result",
          "data": {
            "text/plain": [
              "                                               Title    Label\n",
              "0  Những Ca Khúc Hay Nhất “Âm Nhạc & Đời Sống” Co...  âm nhạc\n",
              "1      Một Thời Âm Nhạc - Episode 01 | Trúc Hồ Music  âm nhạc\n",
              "2                     NAM EM COVER - HƠI THỞ ÂM NHẠC  âm nhạc\n",
              "3  Huyền thoại âm nhạc Việt Nam.Phần 2 - Phương T...  âm nhạc\n",
              "4                 Túy Âm - Xesi x Masew x Nhatnguyen  âm nhạc"
            ],
            "text/html": [
              "\n",
              "  <div id=\"df-5b0347f6-d05d-4a48-becf-ee66993dbc7d\">\n",
              "    <div class=\"colab-df-container\">\n",
              "      <div>\n",
              "<style scoped>\n",
              "    .dataframe tbody tr th:only-of-type {\n",
              "        vertical-align: middle;\n",
              "    }\n",
              "\n",
              "    .dataframe tbody tr th {\n",
              "        vertical-align: top;\n",
              "    }\n",
              "\n",
              "    .dataframe thead th {\n",
              "        text-align: right;\n",
              "    }\n",
              "</style>\n",
              "<table border=\"1\" class=\"dataframe\">\n",
              "  <thead>\n",
              "    <tr style=\"text-align: right;\">\n",
              "      <th></th>\n",
              "      <th>Title</th>\n",
              "      <th>Label</th>\n",
              "    </tr>\n",
              "  </thead>\n",
              "  <tbody>\n",
              "    <tr>\n",
              "      <th>0</th>\n",
              "      <td>Những Ca Khúc Hay Nhất “Âm Nhạc &amp; Đời Sống” Co...</td>\n",
              "      <td>âm nhạc</td>\n",
              "    </tr>\n",
              "    <tr>\n",
              "      <th>1</th>\n",
              "      <td>Một Thời Âm Nhạc - Episode 01 | Trúc Hồ Music</td>\n",
              "      <td>âm nhạc</td>\n",
              "    </tr>\n",
              "    <tr>\n",
              "      <th>2</th>\n",
              "      <td>NAM EM COVER - HƠI THỞ ÂM NHẠC</td>\n",
              "      <td>âm nhạc</td>\n",
              "    </tr>\n",
              "    <tr>\n",
              "      <th>3</th>\n",
              "      <td>Huyền thoại âm nhạc Việt Nam.Phần 2 - Phương T...</td>\n",
              "      <td>âm nhạc</td>\n",
              "    </tr>\n",
              "    <tr>\n",
              "      <th>4</th>\n",
              "      <td>Túy Âm - Xesi x Masew x Nhatnguyen</td>\n",
              "      <td>âm nhạc</td>\n",
              "    </tr>\n",
              "  </tbody>\n",
              "</table>\n",
              "</div>\n",
              "      <button class=\"colab-df-convert\" onclick=\"convertToInteractive('df-5b0347f6-d05d-4a48-becf-ee66993dbc7d')\"\n",
              "              title=\"Convert this dataframe to an interactive table.\"\n",
              "              style=\"display:none;\">\n",
              "        \n",
              "  <svg xmlns=\"http://www.w3.org/2000/svg\" height=\"24px\"viewBox=\"0 0 24 24\"\n",
              "       width=\"24px\">\n",
              "    <path d=\"M0 0h24v24H0V0z\" fill=\"none\"/>\n",
              "    <path d=\"M18.56 5.44l.94 2.06.94-2.06 2.06-.94-2.06-.94-.94-2.06-.94 2.06-2.06.94zm-11 1L8.5 8.5l.94-2.06 2.06-.94-2.06-.94L8.5 2.5l-.94 2.06-2.06.94zm10 10l.94 2.06.94-2.06 2.06-.94-2.06-.94-.94-2.06-.94 2.06-2.06.94z\"/><path d=\"M17.41 7.96l-1.37-1.37c-.4-.4-.92-.59-1.43-.59-.52 0-1.04.2-1.43.59L10.3 9.45l-7.72 7.72c-.78.78-.78 2.05 0 2.83L4 21.41c.39.39.9.59 1.41.59.51 0 1.02-.2 1.41-.59l7.78-7.78 2.81-2.81c.8-.78.8-2.07 0-2.86zM5.41 20L4 18.59l7.72-7.72 1.47 1.35L5.41 20z\"/>\n",
              "  </svg>\n",
              "      </button>\n",
              "      \n",
              "  <style>\n",
              "    .colab-df-container {\n",
              "      display:flex;\n",
              "      flex-wrap:wrap;\n",
              "      gap: 12px;\n",
              "    }\n",
              "\n",
              "    .colab-df-convert {\n",
              "      background-color: #E8F0FE;\n",
              "      border: none;\n",
              "      border-radius: 50%;\n",
              "      cursor: pointer;\n",
              "      display: none;\n",
              "      fill: #1967D2;\n",
              "      height: 32px;\n",
              "      padding: 0 0 0 0;\n",
              "      width: 32px;\n",
              "    }\n",
              "\n",
              "    .colab-df-convert:hover {\n",
              "      background-color: #E2EBFA;\n",
              "      box-shadow: 0px 1px 2px rgba(60, 64, 67, 0.3), 0px 1px 3px 1px rgba(60, 64, 67, 0.15);\n",
              "      fill: #174EA6;\n",
              "    }\n",
              "\n",
              "    [theme=dark] .colab-df-convert {\n",
              "      background-color: #3B4455;\n",
              "      fill: #D2E3FC;\n",
              "    }\n",
              "\n",
              "    [theme=dark] .colab-df-convert:hover {\n",
              "      background-color: #434B5C;\n",
              "      box-shadow: 0px 1px 3px 1px rgba(0, 0, 0, 0.15);\n",
              "      filter: drop-shadow(0px 1px 2px rgba(0, 0, 0, 0.3));\n",
              "      fill: #FFFFFF;\n",
              "    }\n",
              "  </style>\n",
              "\n",
              "      <script>\n",
              "        const buttonEl =\n",
              "          document.querySelector('#df-5b0347f6-d05d-4a48-becf-ee66993dbc7d button.colab-df-convert');\n",
              "        buttonEl.style.display =\n",
              "          google.colab.kernel.accessAllowed ? 'block' : 'none';\n",
              "\n",
              "        async function convertToInteractive(key) {\n",
              "          const element = document.querySelector('#df-5b0347f6-d05d-4a48-becf-ee66993dbc7d');\n",
              "          const dataTable =\n",
              "            await google.colab.kernel.invokeFunction('convertToInteractive',\n",
              "                                                     [key], {});\n",
              "          if (!dataTable) return;\n",
              "\n",
              "          const docLinkHtml = 'Like what you see? Visit the ' +\n",
              "            '<a target=\"_blank\" href=https://colab.research.google.com/notebooks/data_table.ipynb>data table notebook</a>'\n",
              "            + ' to learn more about interactive tables.';\n",
              "          element.innerHTML = '';\n",
              "          dataTable['output_type'] = 'display_data';\n",
              "          await google.colab.output.renderOutput(dataTable, element);\n",
              "          const docLink = document.createElement('div');\n",
              "          docLink.innerHTML = docLinkHtml;\n",
              "          element.appendChild(docLink);\n",
              "        }\n",
              "      </script>\n",
              "    </div>\n",
              "  </div>\n",
              "  "
            ]
          },
          "metadata": {},
          "execution_count": 76
        }
      ]
    },
    {
      "cell_type": "markdown",
      "source": [
        "#Preprocess"
      ],
      "metadata": {
        "id": "YoI2w5ducivD"
      }
    },
    {
      "cell_type": "markdown",
      "source": [
        "Remove numeric values"
      ],
      "metadata": {
        "id": "9ClF8xSea5FM"
      }
    },
    {
      "cell_type": "code",
      "source": [
        "data['Title'] = data['Title'].map(lambda x: re.sub(r'\\d+', '', x))\n",
        "data['Title']"
      ],
      "metadata": {
        "colab": {
          "base_uri": "https://localhost:8080/"
        },
        "id": "qiWyxa6p1_de",
        "outputId": "3d8370be-993e-4ab5-b334-f51f6b151745"
      },
      "execution_count": null,
      "outputs": [
        {
          "output_type": "execute_result",
          "data": {
            "text/plain": [
              "0        Những Ca Khúc Hay Nhất “Âm Nhạc & Đời Sống” Co...\n",
              "1              Một Thời Âm Nhạc - Episode  | Trúc Hồ Music\n",
              "2                           NAM EM COVER - HƠI THỞ ÂM NHẠC\n",
              "3        Huyền thoại âm nhạc Việt Nam.Phần  - Phương Thanh\n",
              "4                       Túy Âm - Xesi x Masew x Nhatnguyen\n",
              "                               ...                        \n",
              "26014                 Ngữ văn  : Thuyết minh về cây bút bi\n",
              "26015    [ Thuyết Minh ] LẤY DANH NGHĨA NGƯỜI NHÀ - Tập...\n",
              "26016    Phim Xã Hội Đen Thuyết Minh | Hương Cảng Kỳ Bi...\n",
              "26017    [ Thuyết Minh ] LẤY DANH NGHĨA NGƯỜI NHÀ - Tập...\n",
              "26018    [THUYẾT MINH] Quân Cửu Linh | Tập  | Phim Cổ T...\n",
              "Name: Title, Length: 26019, dtype: object"
            ]
          },
          "metadata": {},
          "execution_count": 77
        }
      ]
    },
    {
      "cell_type": "markdown",
      "source": [
        "To lowercase"
      ],
      "metadata": {
        "id": "6fNRREM-bAcg"
      }
    },
    {
      "cell_type": "code",
      "source": [
        "data['Title'] = data['Title'].map(lambda x: x.lower())\n",
        "data['Title']"
      ],
      "metadata": {
        "colab": {
          "base_uri": "https://localhost:8080/"
        },
        "id": "GgJPHSBt0uUV",
        "outputId": "0e9dcd61-be14-4d90-e6f8-78a7a2a7ebd2"
      },
      "execution_count": null,
      "outputs": [
        {
          "output_type": "execute_result",
          "data": {
            "text/plain": [
              "0        những ca khúc hay nhất “âm nhạc & đời sống” co...\n",
              "1              một thời âm nhạc - episode  | trúc hồ music\n",
              "2                           nam em cover - hơi thở âm nhạc\n",
              "3        huyền thoại âm nhạc việt nam.phần  - phương thanh\n",
              "4                       túy âm - xesi x masew x nhatnguyen\n",
              "                               ...                        \n",
              "26014                 ngữ văn  : thuyết minh về cây bút bi\n",
              "26015    [ thuyết minh ] lấy danh nghĩa người nhà - tập...\n",
              "26016    phim xã hội đen thuyết minh | hương cảng kỳ bi...\n",
              "26017    [ thuyết minh ] lấy danh nghĩa người nhà - tập...\n",
              "26018    [thuyết minh] quân cửu linh | tập  | phim cổ t...\n",
              "Name: Title, Length: 26019, dtype: object"
            ]
          },
          "metadata": {},
          "execution_count": 78
        }
      ]
    },
    {
      "cell_type": "markdown",
      "source": [
        "tokenization using pyvi"
      ],
      "metadata": {
        "id": "N5TIAMOLbEtd"
      }
    },
    {
      "cell_type": "code",
      "source": [
        "data['Title'] = data['Title'].map(lambda x: ViTokenizer.tokenize(x))\n",
        "data['Title']"
      ],
      "metadata": {
        "colab": {
          "base_uri": "https://localhost:8080/"
        },
        "id": "f6HrRoKB4C2p",
        "outputId": "efd97538-4b9f-4502-eda1-c86b06bc21ab"
      },
      "execution_count": null,
      "outputs": [
        {
          "output_type": "execute_result",
          "data": {
            "text/plain": [
              "0        những ca_khúc hay nhất “ âm_nhạc & đời_sống ” ...\n",
              "1               một thời âm_nhạc - episode | trúc hồ music\n",
              "2                           nam em cover - hơi thở âm_nhạc\n",
              "3        huyền_thoại âm_nhạc việt_nam . phần - phương t...\n",
              "4                       túy âm - xesi x masew x nhatnguyen\n",
              "                               ...                        \n",
              "26014                  ngữ_văn : thuyết_minh về cây bút_bi\n",
              "26015    [ thuyết_minh ] lấy danh_nghĩa người_nhà - tập...\n",
              "26016    phim xã_hội_đen thuyết_minh | hương cảng kỳ bi...\n",
              "26017    [ thuyết_minh ] lấy danh_nghĩa người_nhà - tập...\n",
              "26018    [ thuyết_minh ] quân cửu linh | tập | phim cổ ...\n",
              "Name: Title, Length: 26019, dtype: object"
            ]
          },
          "metadata": {},
          "execution_count": 79
        }
      ]
    },
    {
      "cell_type": "markdown",
      "source": [
        "Adjust for some specified case"
      ],
      "metadata": {
        "id": "NTWrWrKobMcO"
      }
    },
    {
      "cell_type": "code",
      "source": [
        "data['Title'] = data['Title'].map(lambda x: x.replace(\"tiếng anh\",\"tiếng_anh\"))"
      ],
      "metadata": {
        "id": "vB68mBdiKKjY"
      },
      "execution_count": null,
      "outputs": []
    },
    {
      "cell_type": "markdown",
      "source": [
        "Remove puntuations"
      ],
      "metadata": {
        "id": "0OY4q6j4bRT1"
      }
    },
    {
      "cell_type": "code",
      "source": [
        "data['Title'] = data['Title'].map(lambda x: re.sub(r'[^\\w\\s]',\"\",x))\n",
        "data['Title']"
      ],
      "metadata": {
        "colab": {
          "base_uri": "https://localhost:8080/"
        },
        "id": "0gm2ivTo1mta",
        "outputId": "ee0c6f9a-1531-436f-81e0-89585bffac8f"
      },
      "execution_count": null,
      "outputs": [
        {
          "output_type": "execute_result",
          "data": {
            "text/plain": [
              "0        những ca_khúc hay nhất  âm_nhạc  đời_sống  col...\n",
              "1                 một thời âm_nhạc  episode  trúc hồ music\n",
              "2                            nam em cover  hơi thở âm_nhạc\n",
              "3         huyền_thoại âm_nhạc việt_nam  phần  phương thanh\n",
              "4                        túy âm  xesi x masew x nhatnguyen\n",
              "                               ...                        \n",
              "26014                   ngữ_văn  thuyết_minh về cây bút_bi\n",
              "26015     thuyết_minh  lấy danh_nghĩa người_nhà  tập  p...\n",
              "26016    phim xã_hội_đen thuyết_minh  hương cảng kỳ bin...\n",
              "26017     thuyết_minh  lấy danh_nghĩa người_nhà  tập  p...\n",
              "26018     thuyết_minh  quân cửu linh  tập  phim cổ tran...\n",
              "Name: Title, Length: 26019, dtype: object"
            ]
          },
          "metadata": {},
          "execution_count": 81
        }
      ]
    },
    {
      "cell_type": "markdown",
      "source": [
        "tokenize using underthesea"
      ],
      "metadata": {
        "id": "eagHA9A0bcDY"
      }
    },
    {
      "cell_type": "code",
      "source": [
        "data['Title'] = data['Title'].map(lambda x: word_tokenize(x))\n",
        "data['Title']"
      ],
      "metadata": {
        "colab": {
          "base_uri": "https://localhost:8080/"
        },
        "id": "48JcoxUNH51d",
        "outputId": "1d4e004f-726e-4ffb-e969-c0490eda400e"
      },
      "execution_count": null,
      "outputs": [
        {
          "output_type": "execute_result",
          "data": {
            "text/plain": [
              "0        [những, ca_khúc, hay, nhất, âm_nhạc, đời_sống,...\n",
              "1           [một, thời, âm_nhạc, episode, trúc, hồ, music]\n",
              "2                      [nam, em, cover, hơi, thở, âm_nhạc]\n",
              "3        [huyền_thoại, âm_nhạc, việt_nam, phần, phương,...\n",
              "4                 [túy, âm, xesi, x, masew, x, nhatnguyen]\n",
              "                               ...                        \n",
              "26014              [ngữ_văn, thuyết_minh, về, cây, bút_bi]\n",
              "26015    [thuyết_minh, lấy, danh_nghĩa, người_nhà, tập,...\n",
              "26016    [phim, xã_hội_đen, thuyết_minh, hương, cảng, k...\n",
              "26017    [thuyết_minh, lấy, danh_nghĩa, người_nhà, tập,...\n",
              "26018    [thuyết_minh, quân, cửu, linh, tập, phim, cổ, ...\n",
              "Name: Title, Length: 26019, dtype: object"
            ]
          },
          "metadata": {},
          "execution_count": 82
        }
      ]
    },
    {
      "cell_type": "code",
      "source": [
        "data['Title'] = data['Title'].map(lambda x: [w.replace(\" \",\"_\") for w in x])\n",
        "data['Title']"
      ],
      "metadata": {
        "colab": {
          "base_uri": "https://localhost:8080/"
        },
        "id": "CVXNZlD1ItX1",
        "outputId": "aa3f8247-f2b5-431a-8f39-b6bd08863056"
      },
      "execution_count": null,
      "outputs": [
        {
          "output_type": "execute_result",
          "data": {
            "text/plain": [
              "0        [những, ca_khúc, hay, nhất, âm_nhạc, đời_sống,...\n",
              "1           [một, thời, âm_nhạc, episode, trúc, hồ, music]\n",
              "2                      [nam, em, cover, hơi, thở, âm_nhạc]\n",
              "3        [huyền_thoại, âm_nhạc, việt_nam, phần, phương,...\n",
              "4                 [túy, âm, xesi, x, masew, x, nhatnguyen]\n",
              "                               ...                        \n",
              "26014              [ngữ_văn, thuyết_minh, về, cây, bút_bi]\n",
              "26015    [thuyết_minh, lấy, danh_nghĩa, người_nhà, tập,...\n",
              "26016    [phim, xã_hội_đen, thuyết_minh, hương, cảng, k...\n",
              "26017    [thuyết_minh, lấy, danh_nghĩa, người_nhà, tập,...\n",
              "26018    [thuyết_minh, quân, cửu, linh, tập, phim, cổ, ...\n",
              "Name: Title, Length: 26019, dtype: object"
            ]
          },
          "metadata": {},
          "execution_count": 83
        }
      ]
    },
    {
      "cell_type": "markdown",
      "source": [
        "Remove stopwords"
      ],
      "metadata": {
        "id": "pqgn6nGobkEO"
      }
    },
    {
      "cell_type": "code",
      "source": [
        "import advertools as adv\n",
        "\n",
        "stop_words = adv.stopwords['vietnamese']\n",
        "data['Title'] = data['Title'].apply(lambda x: \" \".join([w for w in x if w not in stop_words]))"
      ],
      "metadata": {
        "id": "x2HKoN1e95_X"
      },
      "execution_count": null,
      "outputs": []
    },
    {
      "cell_type": "markdown",
      "source": [
        "Encode label"
      ],
      "metadata": {
        "id": "SWXvucRDbm_2"
      }
    },
    {
      "cell_type": "code",
      "source": [
        "from sklearn.preprocessing import LabelEncoder\n",
        "le = LabelEncoder()\n",
        "le.fit(data.Label)\n",
        "data.Label = le.transform(data.Label)\n",
        "data.tail(5)"
      ],
      "metadata": {
        "colab": {
          "base_uri": "https://localhost:8080/",
          "height": 206
        },
        "id": "qcrek6f-ma4V",
        "outputId": "6835af54-c513-4296-e0b2-84da07311af9"
      },
      "execution_count": null,
      "outputs": [
        {
          "output_type": "execute_result",
          "data": {
            "text/plain": [
              "                                                   Title  Label\n",
              "26014                         ngữ_văn thuyết_minh bút_bi      5\n",
              "26015  thuyết_minh danh_nghĩa người_nhà tập phim đàm ...      5\n",
              "26016  phim xã_hội_đen thuyết_minh hương cảng kỳ binh...      5\n",
              "26017  thuyết_minh danh_nghĩa người_nhà tập phim đàm ...      5\n",
              "26018  thuyết_minh quân cửu linh tập phim cổ trang bà...      5"
            ],
            "text/html": [
              "\n",
              "  <div id=\"df-df33cf19-c708-4e7d-8e89-170b19b23db9\">\n",
              "    <div class=\"colab-df-container\">\n",
              "      <div>\n",
              "<style scoped>\n",
              "    .dataframe tbody tr th:only-of-type {\n",
              "        vertical-align: middle;\n",
              "    }\n",
              "\n",
              "    .dataframe tbody tr th {\n",
              "        vertical-align: top;\n",
              "    }\n",
              "\n",
              "    .dataframe thead th {\n",
              "        text-align: right;\n",
              "    }\n",
              "</style>\n",
              "<table border=\"1\" class=\"dataframe\">\n",
              "  <thead>\n",
              "    <tr style=\"text-align: right;\">\n",
              "      <th></th>\n",
              "      <th>Title</th>\n",
              "      <th>Label</th>\n",
              "    </tr>\n",
              "  </thead>\n",
              "  <tbody>\n",
              "    <tr>\n",
              "      <th>26014</th>\n",
              "      <td>ngữ_văn thuyết_minh bút_bi</td>\n",
              "      <td>5</td>\n",
              "    </tr>\n",
              "    <tr>\n",
              "      <th>26015</th>\n",
              "      <td>thuyết_minh danh_nghĩa người_nhà tập phim đàm ...</td>\n",
              "      <td>5</td>\n",
              "    </tr>\n",
              "    <tr>\n",
              "      <th>26016</th>\n",
              "      <td>phim xã_hội_đen thuyết_minh hương cảng kỳ binh...</td>\n",
              "      <td>5</td>\n",
              "    </tr>\n",
              "    <tr>\n",
              "      <th>26017</th>\n",
              "      <td>thuyết_minh danh_nghĩa người_nhà tập phim đàm ...</td>\n",
              "      <td>5</td>\n",
              "    </tr>\n",
              "    <tr>\n",
              "      <th>26018</th>\n",
              "      <td>thuyết_minh quân cửu linh tập phim cổ trang bà...</td>\n",
              "      <td>5</td>\n",
              "    </tr>\n",
              "  </tbody>\n",
              "</table>\n",
              "</div>\n",
              "      <button class=\"colab-df-convert\" onclick=\"convertToInteractive('df-df33cf19-c708-4e7d-8e89-170b19b23db9')\"\n",
              "              title=\"Convert this dataframe to an interactive table.\"\n",
              "              style=\"display:none;\">\n",
              "        \n",
              "  <svg xmlns=\"http://www.w3.org/2000/svg\" height=\"24px\"viewBox=\"0 0 24 24\"\n",
              "       width=\"24px\">\n",
              "    <path d=\"M0 0h24v24H0V0z\" fill=\"none\"/>\n",
              "    <path d=\"M18.56 5.44l.94 2.06.94-2.06 2.06-.94-2.06-.94-.94-2.06-.94 2.06-2.06.94zm-11 1L8.5 8.5l.94-2.06 2.06-.94-2.06-.94L8.5 2.5l-.94 2.06-2.06.94zm10 10l.94 2.06.94-2.06 2.06-.94-2.06-.94-.94-2.06-.94 2.06-2.06.94z\"/><path d=\"M17.41 7.96l-1.37-1.37c-.4-.4-.92-.59-1.43-.59-.52 0-1.04.2-1.43.59L10.3 9.45l-7.72 7.72c-.78.78-.78 2.05 0 2.83L4 21.41c.39.39.9.59 1.41.59.51 0 1.02-.2 1.41-.59l7.78-7.78 2.81-2.81c.8-.78.8-2.07 0-2.86zM5.41 20L4 18.59l7.72-7.72 1.47 1.35L5.41 20z\"/>\n",
              "  </svg>\n",
              "      </button>\n",
              "      \n",
              "  <style>\n",
              "    .colab-df-container {\n",
              "      display:flex;\n",
              "      flex-wrap:wrap;\n",
              "      gap: 12px;\n",
              "    }\n",
              "\n",
              "    .colab-df-convert {\n",
              "      background-color: #E8F0FE;\n",
              "      border: none;\n",
              "      border-radius: 50%;\n",
              "      cursor: pointer;\n",
              "      display: none;\n",
              "      fill: #1967D2;\n",
              "      height: 32px;\n",
              "      padding: 0 0 0 0;\n",
              "      width: 32px;\n",
              "    }\n",
              "\n",
              "    .colab-df-convert:hover {\n",
              "      background-color: #E2EBFA;\n",
              "      box-shadow: 0px 1px 2px rgba(60, 64, 67, 0.3), 0px 1px 3px 1px rgba(60, 64, 67, 0.15);\n",
              "      fill: #174EA6;\n",
              "    }\n",
              "\n",
              "    [theme=dark] .colab-df-convert {\n",
              "      background-color: #3B4455;\n",
              "      fill: #D2E3FC;\n",
              "    }\n",
              "\n",
              "    [theme=dark] .colab-df-convert:hover {\n",
              "      background-color: #434B5C;\n",
              "      box-shadow: 0px 1px 3px 1px rgba(0, 0, 0, 0.15);\n",
              "      filter: drop-shadow(0px 1px 2px rgba(0, 0, 0, 0.3));\n",
              "      fill: #FFFFFF;\n",
              "    }\n",
              "  </style>\n",
              "\n",
              "      <script>\n",
              "        const buttonEl =\n",
              "          document.querySelector('#df-df33cf19-c708-4e7d-8e89-170b19b23db9 button.colab-df-convert');\n",
              "        buttonEl.style.display =\n",
              "          google.colab.kernel.accessAllowed ? 'block' : 'none';\n",
              "\n",
              "        async function convertToInteractive(key) {\n",
              "          const element = document.querySelector('#df-df33cf19-c708-4e7d-8e89-170b19b23db9');\n",
              "          const dataTable =\n",
              "            await google.colab.kernel.invokeFunction('convertToInteractive',\n",
              "                                                     [key], {});\n",
              "          if (!dataTable) return;\n",
              "\n",
              "          const docLinkHtml = 'Like what you see? Visit the ' +\n",
              "            '<a target=\"_blank\" href=https://colab.research.google.com/notebooks/data_table.ipynb>data table notebook</a>'\n",
              "            + ' to learn more about interactive tables.';\n",
              "          element.innerHTML = '';\n",
              "          dataTable['output_type'] = 'display_data';\n",
              "          await google.colab.output.renderOutput(dataTable, element);\n",
              "          const docLink = document.createElement('div');\n",
              "          docLink.innerHTML = docLinkHtml;\n",
              "          element.appendChild(docLink);\n",
              "        }\n",
              "      </script>\n",
              "    </div>\n",
              "  </div>\n",
              "  "
            ]
          },
          "metadata": {},
          "execution_count": 85
        }
      ]
    },
    {
      "cell_type": "code",
      "source": [
        "le.classes_"
      ],
      "metadata": {
        "colab": {
          "base_uri": "https://localhost:8080/"
        },
        "id": "Xy4hPiOBSyYM",
        "outputId": "1d9126bd-deb0-4466-ea46-342f7fb5cc06"
      },
      "execution_count": null,
      "outputs": [
        {
          "output_type": "execute_result",
          "data": {
            "text/plain": [
              "array(['du lịch', 'giáo dục', 'khoa học và công nghệ', 'làm đẹp',\n",
              "       'lịch sử', 'phim ảnh', 'thời trang', 'tin tức', 'trò chơi',\n",
              "       'trẻ em', 'y tế', 'âm nhạc', 'ẩm thực'], dtype=object)"
            ]
          },
          "metadata": {},
          "execution_count": 86
        }
      ]
    },
    {
      "cell_type": "markdown",
      "source": [
        "Vectorize feature"
      ],
      "metadata": {
        "id": "n46gneTobpkN"
      }
    },
    {
      "cell_type": "code",
      "source": [
        "from sklearn.feature_extraction.text import TfidfVectorizer\n",
        "tfidf = TfidfVectorizer(ngram_range=(1, 1))\n",
        "X = tfidf.fit_transform(data.Title).toarray()"
      ],
      "metadata": {
        "id": "dgknYB17td77"
      },
      "execution_count": null,
      "outputs": []
    },
    {
      "cell_type": "markdown",
      "source": [
        "Train test split"
      ],
      "metadata": {
        "id": "LdC99BXubwTT"
      }
    },
    {
      "cell_type": "code",
      "source": [
        "from sklearn.model_selection import train_test_split\n",
        "from sklearn.naive_bayes import MultinomialNB\n",
        "from sklearn import linear_model\n",
        "from sklearn.ensemble import AdaBoostClassifier\n",
        "\n",
        "X_train, X_test, y_train, y_test = train_test_split(X, data['Label'], random_state = 0, test_size = .33, stratify=data['Label'])"
      ],
      "metadata": {
        "id": "AwoWHWLZxGfM"
      },
      "execution_count": null,
      "outputs": []
    },
    {
      "cell_type": "markdown",
      "source": [
        "#Train model"
      ],
      "metadata": {
        "id": "jwCnBb_ocJZl"
      }
    },
    {
      "cell_type": "markdown",
      "source": [
        "Train model using SVM"
      ],
      "metadata": {
        "id": "d9JolqrGbyQR"
      }
    },
    {
      "cell_type": "code",
      "source": [
        "svm = linear_model.SGDClassifier(loss='modified_huber',max_iter=1000, tol=1e-3).fit(X_train,y_train)"
      ],
      "metadata": {
        "id": "n_bsl-yPBQNM"
      },
      "execution_count": null,
      "outputs": []
    },
    {
      "cell_type": "markdown",
      "source": [
        "# Evaluate model"
      ],
      "metadata": {
        "id": "KquLsezjcO1N"
      }
    },
    {
      "cell_type": "markdown",
      "source": [
        "Evaluate"
      ],
      "metadata": {
        "id": "vQi8IA1Nb2b9"
      }
    },
    {
      "cell_type": "code",
      "source": [
        "!pip install scikit-plot"
      ],
      "metadata": {
        "id": "JVYYdbmYCHYm"
      },
      "execution_count": null,
      "outputs": []
    },
    {
      "cell_type": "code",
      "source": [
        "from sklearn import metrics\n",
        "import matplotlib.pyplot as plt\n",
        "import seaborn as sns\n",
        "from sklearn.metrics import confusion_matrix\n",
        "import scikitplot as skplt\n",
        "\n",
        "\n",
        "y_pred = svm.predict(X_test)\n",
        "y_probas = svm.predict_proba(X_test)\n",
        "\n",
        "print(metrics.classification_report(y_test, y_pred, \n",
        "                                    target_names=list(le.classes_)))\n",
        "\n",
        "conf_mat = confusion_matrix(y_test, y_pred)\n",
        "fig, ax = plt.subplots(figsize=(10,10))\n",
        "sns.heatmap(conf_mat, annot=True, fmt='d', xticklabels=list(le.classes_), yticklabels=list(le.classes_))\n",
        "plt.ylabel('Actual')\n",
        "plt.xlabel('Predicted')\n",
        "plt.title('Confusion Matrix - SVM')\n",
        "plt.show()\n",
        "\n",
        "skplt.metrics.plot_precision_recall_curve(y_test, y_probas)\n",
        "plt.title('Precision-Recall Curve - SVM')\n",
        "plt.show()"
      ],
      "metadata": {
        "id": "B9pB2x90Bxzn",
        "colab": {
          "base_uri": "https://localhost:8080/",
          "height": 1000
        },
        "outputId": "a2a900dc-4b8d-478b-f45f-3606a6c3bd9a"
      },
      "execution_count": null,
      "outputs": [
        {
          "output_type": "stream",
          "name": "stdout",
          "text": [
            "                       precision    recall  f1-score   support\n",
            "\n",
            "              du lịch       0.93      0.94      0.94       925\n",
            "             giáo dục       0.95      0.91      0.93       632\n",
            "khoa học và công nghệ       0.82      0.90      0.86       564\n",
            "              làm đẹp       0.94      0.96      0.95       561\n",
            "              lịch sử       0.93      0.92      0.92       937\n",
            "             phim ảnh       0.91      0.92      0.92       620\n",
            "           thời trang       0.99      0.98      0.99       607\n",
            "              tin tức       0.95      0.90      0.92      1070\n",
            "             trò chơi       0.96      0.93      0.94       680\n",
            "               trẻ em       0.87      0.92      0.90       459\n",
            "                 y tế       0.95      0.95      0.95       482\n",
            "              âm nhạc       0.95      0.96      0.96       511\n",
            "              ẩm thực       0.93      0.94      0.94       539\n",
            "\n",
            "             accuracy                           0.93      8587\n",
            "            macro avg       0.93      0.93      0.93      8587\n",
            "         weighted avg       0.93      0.93      0.93      8587\n",
            "\n"
          ]
        },
        {
          "output_type": "display_data",
          "data": {
            "text/plain": [
              "<Figure size 720x720 with 2 Axes>"
            ],
            "image/png": "[encoded data removed]"
          },
          "metadata": {
            "needs_background": "light"
          }
        },
        {
          "output_type": "stream",
          "name": "stderr",
          "text": [
            "/usr/local/lib/python3.7/dist-packages/sklearn/utils/deprecation.py:87: FutureWarning: Function plot_precision_recall_curve is deprecated; This will be removed in v0.5.0. Please use scikitplot.metrics.plot_precision_recall instead.\n",
            "  warnings.warn(msg, category=FutureWarning)\n"
          ]
        },
        {
          "output_type": "display_data",
          "data": {
            "text/plain": [
              "<Figure size 432x288 with 1 Axes>"
            ],
            "image/png": "[encoded data removed]"
          },
          "metadata": {
            "needs_background": "light"
          }
        }
      ]
    },
    {
      "cell_type": "code",
      "source": [
        "data['Label'].value_counts().sort_values(ascending=False).plot(kind='bar', y='Number of Samples', \n",
        "                                                                title='Number of samples for each class')"
      ],
      "metadata": {
        "colab": {
          "base_uri": "https://localhost:8080/",
          "height": 302
        },
        "id": "o0QLLu5USlnD",
        "outputId": "563b1b60-67be-4c17-cf8f-3fc5d2ec175b"
      },
      "execution_count": null,
      "outputs": [
        {
          "output_type": "execute_result",
          "data": {
            "text/plain": [
              "<matplotlib.axes._subplots.AxesSubplot at 0x7fc359d9ad90>"
            ]
          },
          "metadata": {},
          "execution_count": 92
        },
        {
          "output_type": "display_data",
          "data": {
            "text/plain": [
              "<Figure size 432x288 with 1 Axes>"
            ],
            "image/png": "[encoded data removed]"
          },
          "metadata": {
            "needs_background": "light"
          }
        }
      ]
    },
    {
      "cell_type": "markdown",
      "source": [
        "Testing (for web deployment)"
      ],
      "metadata": {
        "id": "CaZj42Amb7pX"
      }
    },
    {
      "cell_type": "code",
      "source": [
        "word_tokenize(\"Flo Tóp Tóp VS Flo Đấu Giải, Góc nhìn tuyển thủ Florentino SGP Yiwei\")"
      ],
      "metadata": {
        "colab": {
          "base_uri": "https://localhost:8080/"
        },
        "id": "qI_7rBhiW7iN",
        "outputId": "ee482a02-3942-45a3-8a88-8605f8520aa3"
      },
      "execution_count": null,
      "outputs": [
        {
          "output_type": "execute_result",
          "data": {
            "text/plain": [
              "['Flo',\n",
              " 'Tóp',\n",
              " 'Tóp',\n",
              " 'VS',\n",
              " 'Flo',\n",
              " 'Đấu',\n",
              " 'Giải',\n",
              " ',',\n",
              " 'Góc',\n",
              " 'nhìn',\n",
              " 'tuyển thủ',\n",
              " 'Florentino SGP Yiwei']"
            ]
          },
          "metadata": {},
          "execution_count": 93
        }
      ]
    },
    {
      "cell_type": "code",
      "source": [
        "d = {'title': [\" \".join(['flo','tóp','vs','đấu','giải','góc','nhìn','tuyển_thủ','florentino','sgp_yiwei'])]}\n",
        "df = pd.DataFrame(data=d)"
      ],
      "metadata": {
        "id": "2Lk5bEcNWoGD"
      },
      "execution_count": null,
      "outputs": []
    },
    {
      "cell_type": "code",
      "source": [
        "df"
      ],
      "metadata": {
        "colab": {
          "base_uri": "https://localhost:8080/",
          "height": 81
        },
        "id": "0p2Xs9FoXdDD",
        "outputId": "5ff88e90-04bf-42b9-b9af-a39570d7d92d"
      },
      "execution_count": null,
      "outputs": [
        {
          "output_type": "execute_result",
          "data": {
            "text/plain": [
              "                                               title\n",
              "0  flo tóp vs đấu giải góc nhìn tuyển_thủ florent..."
            ],
            "text/html": [
              "\n",
              "  <div id=\"df-30a4f7ed-7b3c-4f22-94b2-207c8bae8cf7\">\n",
              "    <div class=\"colab-df-container\">\n",
              "      <div>\n",
              "<style scoped>\n",
              "    .dataframe tbody tr th:only-of-type {\n",
              "        vertical-align: middle;\n",
              "    }\n",
              "\n",
              "    .dataframe tbody tr th {\n",
              "        vertical-align: top;\n",
              "    }\n",
              "\n",
              "    .dataframe thead th {\n",
              "        text-align: right;\n",
              "    }\n",
              "</style>\n",
              "<table border=\"1\" class=\"dataframe\">\n",
              "  <thead>\n",
              "    <tr style=\"text-align: right;\">\n",
              "      <th></th>\n",
              "      <th>title</th>\n",
              "    </tr>\n",
              "  </thead>\n",
              "  <tbody>\n",
              "    <tr>\n",
              "      <th>0</th>\n",
              "      <td>flo tóp vs đấu giải góc nhìn tuyển_thủ florent...</td>\n",
              "    </tr>\n",
              "  </tbody>\n",
              "</table>\n",
              "</div>\n",
              "      <button class=\"colab-df-convert\" onclick=\"convertToInteractive('df-30a4f7ed-7b3c-4f22-94b2-207c8bae8cf7')\"\n",
              "              title=\"Convert this dataframe to an interactive table.\"\n",
              "              style=\"display:none;\">\n",
              "        \n",
              "  <svg xmlns=\"http://www.w3.org/2000/svg\" height=\"24px\"viewBox=\"0 0 24 24\"\n",
              "       width=\"24px\">\n",
              "    <path d=\"M0 0h24v24H0V0z\" fill=\"none\"/>\n",
              "    <path d=\"M18.56 5.44l.94 2.06.94-2.06 2.06-.94-2.06-.94-.94-2.06-.94 2.06-2.06.94zm-11 1L8.5 8.5l.94-2.06 2.06-.94-2.06-.94L8.5 2.5l-.94 2.06-2.06.94zm10 10l.94 2.06.94-2.06 2.06-.94-2.06-.94-.94-2.06-.94 2.06-2.06.94z\"/><path d=\"M17.41 7.96l-1.37-1.37c-.4-.4-.92-.59-1.43-.59-.52 0-1.04.2-1.43.59L10.3 9.45l-7.72 7.72c-.78.78-.78 2.05 0 2.83L4 21.41c.39.39.9.59 1.41.59.51 0 1.02-.2 1.41-.59l7.78-7.78 2.81-2.81c.8-.78.8-2.07 0-2.86zM5.41 20L4 18.59l7.72-7.72 1.47 1.35L5.41 20z\"/>\n",
              "  </svg>\n",
              "      </button>\n",
              "      \n",
              "  <style>\n",
              "    .colab-df-container {\n",
              "      display:flex;\n",
              "      flex-wrap:wrap;\n",
              "      gap: 12px;\n",
              "    }\n",
              "\n",
              "    .colab-df-convert {\n",
              "      background-color: #E8F0FE;\n",
              "      border: none;\n",
              "      border-radius: 50%;\n",
              "      cursor: pointer;\n",
              "      display: none;\n",
              "      fill: #1967D2;\n",
              "      height: 32px;\n",
              "      padding: 0 0 0 0;\n",
              "      width: 32px;\n",
              "    }\n",
              "\n",
              "    .colab-df-convert:hover {\n",
              "      background-color: #E2EBFA;\n",
              "      box-shadow: 0px 1px 2px rgba(60, 64, 67, 0.3), 0px 1px 3px 1px rgba(60, 64, 67, 0.15);\n",
              "      fill: #174EA6;\n",
              "    }\n",
              "\n",
              "    [theme=dark] .colab-df-convert {\n",
              "      background-color: #3B4455;\n",
              "      fill: #D2E3FC;\n",
              "    }\n",
              "\n",
              "    [theme=dark] .colab-df-convert:hover {\n",
              "      background-color: #434B5C;\n",
              "      box-shadow: 0px 1px 3px 1px rgba(0, 0, 0, 0.15);\n",
              "      filter: drop-shadow(0px 1px 2px rgba(0, 0, 0, 0.3));\n",
              "      fill: #FFFFFF;\n",
              "    }\n",
              "  </style>\n",
              "\n",
              "      <script>\n",
              "        const buttonEl =\n",
              "          document.querySelector('#df-30a4f7ed-7b3c-4f22-94b2-207c8bae8cf7 button.colab-df-convert');\n",
              "        buttonEl.style.display =\n",
              "          google.colab.kernel.accessAllowed ? 'block' : 'none';\n",
              "\n",
              "        async function convertToInteractive(key) {\n",
              "          const element = document.querySelector('#df-30a4f7ed-7b3c-4f22-94b2-207c8bae8cf7');\n",
              "          const dataTable =\n",
              "            await google.colab.kernel.invokeFunction('convertToInteractive',\n",
              "                                                     [key], {});\n",
              "          if (!dataTable) return;\n",
              "\n",
              "          const docLinkHtml = 'Like what you see? Visit the ' +\n",
              "            '<a target=\"_blank\" href=https://colab.research.google.com/notebooks/data_table.ipynb>data table notebook</a>'\n",
              "            + ' to learn more about interactive tables.';\n",
              "          element.innerHTML = '';\n",
              "          dataTable['output_type'] = 'display_data';\n",
              "          await google.colab.output.renderOutput(dataTable, element);\n",
              "          const docLink = document.createElement('div');\n",
              "          docLink.innerHTML = docLinkHtml;\n",
              "          element.appendChild(docLink);\n",
              "        }\n",
              "      </script>\n",
              "    </div>\n",
              "  </div>\n",
              "  "
            ]
          },
          "metadata": {},
          "execution_count": 99
        }
      ]
    },
    {
      "cell_type": "code",
      "source": [
        "sample = tfidf.transform(df.title).toarray()"
      ],
      "metadata": {
        "id": "sw7Q4X5DWm0d"
      },
      "execution_count": null,
      "outputs": []
    },
    {
      "cell_type": "code",
      "source": [
        "y_pred = svm.predict(sample)\n",
        "y_pred"
      ],
      "metadata": {
        "colab": {
          "base_uri": "https://localhost:8080/"
        },
        "id": "8YG1nLkjX31h",
        "outputId": "1cb44a12-4570-4724-ee17-85d49651812c"
      },
      "execution_count": null,
      "outputs": [
        {
          "output_type": "execute_result",
          "data": {
            "text/plain": [
              "array([8])"
            ]
          },
          "metadata": {},
          "execution_count": 109
        }
      ]
    }
  ]
}