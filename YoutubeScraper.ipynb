{
  "cells": [
    {
      "cell_type": "code",
      "execution_count": null,
      "metadata": {
        "colab": {
          "base_uri": "https://localhost:8080/"
        },
        "id": "PlsNm54e-cqD",
        "outputId": "db958b92-e310-49ce-9ed7-bb4447123e0d"
      },
      "outputs": [
        {
          "output_type": "stream",
          "name": "stdout",
          "text": [
            "Collecting pytube\n",
            "  Downloading pytube-12.0.0-py3-none-any.whl (56 kB)\n",
            "\u001b[?25l\r\u001b[K     |█████▉                          | 10 kB 20.9 MB/s eta 0:00:01\r\u001b[K     |███████████▋                    | 20 kB 10.7 MB/s eta 0:00:01\r\u001b[K     |█████████████████▍              | 30 kB 8.0 MB/s eta 0:00:01\r\u001b[K     |███████████████████████▏        | 40 kB 7.3 MB/s eta 0:00:01\r\u001b[K     |█████████████████████████████   | 51 kB 5.0 MB/s eta 0:00:01\r\u001b[K     |████████████████████████████████| 56 kB 2.5 MB/s \n",
            "\u001b[?25hInstalling collected packages: pytube\n",
            "Successfully installed pytube-12.0.0\n"
          ]
        }
      ],
      "source": [
        "!pip install pytube"
      ]
    },
    {
      "cell_type": "markdown",
      "source": [
        "# Section 1. SETTING UP PARAMETERS"
      ],
      "metadata": {
        "id": "TmF2XCmfEjBO"
      }
    },
    {
      "cell_type": "code",
      "execution_count": null,
      "metadata": {
        "id": "ilOAZ2_SAq-C"
      },
      "outputs": [],
      "source": [
        "SEARCH_LIST_1 = ['mặc gì', 'quần áo', 'xu hướng thời trang', 'phối đồ', 'tuần lễ thời trang', 'thiết kế thời trang']\n",
        "SEARCH_LIST_2 = ['du học', 'dạy học', 'ôn thi', 'thi trung học phổ thông', 'giải đề thi','học trực tuyến']\n",
        "SEARCH_LIST_3 = ['trò chơi điện tử','#gamethủ', '#thểthaođiệntử', 'trò chơi pc', 'trò chơi điện thoại', 'trò chơi trực tuyến', 'streamer trò chơi']\n",
        "MAX_RESULT = 300"
      ]
    },
    {
      "cell_type": "markdown",
      "source": [
        "# Section 2. CLASS DEFINITION\n",
        "© Ngô Phước Thịnh - 19520981\n",
        "\n",
        "YoutubeScraper là class được viết dựa trên thư viện [pytube](https://pytube.io/en/latest/).\n",
        "\n",
        "YoutubeScraper(search_list, maxResult):\n",
        "* Default parameters:\n",
        "  >search_list: ***list, default None***\n",
        "  list các keyword.\n",
        "\n",
        "  >maxResult: ***int, default 50*** \n",
        "  số kết quả trả về - *Lưu ý, con số này chỉ mang tính tương đối, ước lượng*. \n",
        "\n",
        " \n",
        "\n",
        "\n",
        "* YoutubeScraper.get_id(): hàm này sẽ trả về list ID (YoutubeCraper._id_list) của các video được tìm ra từ list các keyword tìm kiếm (Youtubescraper.search_list), dựa trên module Search của pytube. \n",
        "* YoutubeScraper.get_info(): dựa vào list video ID được tìm ra, hàm sẽ trả về title, description và keyword của các video trên (YotubeScraper._title_list, YoutubeScraper._keywords_list, YoutubeScraper._description_list). \n",
        "\n",
        "Ví dụ:\n",
        "\n",
        ">```\n",
        ">> yt = YoutubeScraper([\"music\", \"trending\"], 50)\n",
        ">> yt.get_id()\n",
        ">> yt.list_id\n",
        "    ...\n",
        ">> yt.get_info()\n",
        ">> yt.list_title\n",
        "    ...\n",
        "```\n",
        "\n",
        "\n",
        "*Lưu ý: Khi thu thập dữ liệu sẽ gửi số lượng lớn requests đến pytube và cả server Youtube, để giảm thiểu lỗi/server block và/hoặc các vấn đề khác liên quan đến các phương thức phòng vệ của server, các phương thức thu thập dữ liệu của class YoutubeScraper trên phải có thời gian delay giữa các lần request dữ liệu. Với keyword_list dài và số lượng kết quả lớn có thể tốn 3 - 5 giờ để hoàn thành. Ngoài ra, khả năng của thư viện pytube có hạn, do đó không nên đặt giá trị maxResult quá cao (>350).*\n"
      ],
      "metadata": {
        "id": "xD0tVPhfEsdO"
      }
    },
    {
      "cell_type": "markdown",
      "source": [
        ""
      ],
      "metadata": {
        "id": "kiNB39Wludos"
      }
    },
    {
      "cell_type": "code",
      "execution_count": null,
      "metadata": {
        "id": "vuEJd9fnATVi"
      },
      "outputs": [],
      "source": [
        "from pytube import Search\n",
        "from pytube import YouTube as Youtube\n",
        "import time\n",
        "import random\n",
        "import pandas as pd"
      ]
    },
    {
      "cell_type": "code",
      "execution_count": null,
      "metadata": {
        "id": "2AG5CY0__GgV"
      },
      "outputs": [],
      "source": [
        "class YoutubeScraper:\n",
        "\n",
        "  def __init__(self, search_list, maxResult=50):\n",
        "    self._id_list = []\n",
        "    self._returned_list = []\n",
        "    self.tag_list = []\n",
        "    self._title_list = []\n",
        "    self._keywords_list = []\n",
        "    self._description_list = []\n",
        "    self.search_list = search_list\n",
        "    self.maxResult = maxResult//17*17\n",
        "\n",
        "  def _single_search(self, tag): \n",
        "    s = Search(tag)\n",
        "    while len(s.results) < self.maxResult:\n",
        "      time.sleep(random.randint(5, 15))\n",
        "      s.get_next_results()\n",
        "    self.tag_list.extend([tag]*len(s.results))\n",
        "    return s.results\n",
        "\n",
        "  def _search(self):\n",
        "    self._returned_list = []\n",
        "    for tag in self.search_list:\n",
        "      self._returned_list.append(self._single_search(tag))\n",
        "      time.sleep(random.randint(5, 15))\n",
        "\n",
        "\n",
        "  def get_id(self):\n",
        "    self._search()\n",
        "    for tag in self._returned_list:\n",
        "      for obj in tag:\n",
        "        self._id_list.append(str(obj)[-12:-1])\n",
        "\n",
        "  @property\n",
        "  def list_id(self):\n",
        "    return self._id_list\n",
        "  \n",
        "  def _get_object(self, id):\n",
        "    try:\n",
        "      obj = Youtube('http://youtube.com/watch?v=' + id)\n",
        "      return obj \n",
        "    except: \n",
        "      return None\n",
        "  \n",
        "  def _get_object_info(self, id):\n",
        "    try:\n",
        "      obj = self._get_object(id)\n",
        "      return obj.title, obj.description, obj.keywords\n",
        "    except:\n",
        "      return None\n",
        "\n",
        "  def get_info(self):\n",
        "    for id in self._id_list:\n",
        "      obj = self._get_object_info(id)\n",
        "      if obj:\n",
        "        time.sleep(random.randint(0, 25)/10)\n",
        "        self._title_list.append(obj[0])\n",
        "        self._description_list.append(obj[1])\n",
        "        self._keywords_list.append(obj[2])\n",
        "      else:\n",
        "        self._title_list.append(\"\")\n",
        "        self._description_list.append(\"\")\n",
        "        self._keywords_list.append(\"\")\n",
        "\n",
        "  @property\n",
        "  def list_title(self):\n",
        "    return self._title_list\n",
        "    \n",
        "  @property\n",
        "  def list_description(self):\n",
        "    return self._description_list\n",
        "    \n",
        "  @property\n",
        "  def list_keywords(self):\n",
        "    return self._keywords_list"
      ]
    },
    {
      "cell_type": "markdown",
      "source": [
        "# Section 3. IMPLEMENT"
      ],
      "metadata": {
        "id": "6dM_xiNzE-j2"
      }
    },
    {
      "cell_type": "code",
      "execution_count": null,
      "metadata": {
        "id": "J6Tz9O-kTSKc"
      },
      "outputs": [],
      "source": [
        "import pandas as pd"
      ]
    },
    {
      "cell_type": "markdown",
      "source": [
        "## 3.1. Fashion"
      ],
      "metadata": {
        "id": "5ivFjBtzFOSO"
      }
    },
    {
      "cell_type": "code",
      "execution_count": null,
      "metadata": {
        "id": "NSUQPN_TJKE3"
      },
      "outputs": [],
      "source": [
        "ytb_instance_1 = YoutubeScraper(SEARCH_LIST_1, MAX_RESULT)"
      ]
    },
    {
      "cell_type": "code",
      "execution_count": null,
      "metadata": {
        "id": "9b_Zb4aYKnZk"
      },
      "outputs": [],
      "source": [
        "ytb_instance_1.get_id()"
      ]
    },
    {
      "cell_type": "code",
      "execution_count": null,
      "metadata": {
        "id": "YsAdLRYARqHY"
      },
      "outputs": [],
      "source": [
        "ytb_instance_1.get_info()"
      ]
    },
    {
      "cell_type": "code",
      "execution_count": null,
      "metadata": {
        "id": "Hs0sGVRqsK9S"
      },
      "outputs": [],
      "source": [
        "d={'Video ID': ytb_instance_1.list_id, 'Title': ytb_instance_1.list_title, 'Description': ytb_instance_1.list_description, 'Searchterm': ytb_instance_1.tag_list, 'Keywords': ytb_instance_1.list_keywords}\n",
        "df = pd.DataFrame(data=d)"
      ]
    },
    {
      "cell_type": "code",
      "source": [
        "df.to_csv('/content/drive/MyDrive/dataset/Youtube/YoutubeDataFashion.csv', encoding='utf-8',index=False)"
      ],
      "metadata": {
        "id": "A3kNY0eqDIti"
      },
      "execution_count": null,
      "outputs": []
    },
    {
      "cell_type": "markdown",
      "source": [
        "## 3.2. Edu"
      ],
      "metadata": {
        "id": "eGWSEwUaFSjQ"
      }
    },
    {
      "cell_type": "code",
      "source": [
        "ytb_instance_2 = YoutubeScraper(SEARCH_LIST_2, MAX_RESULT)"
      ],
      "metadata": {
        "id": "_PMR3Vl4H_b1"
      },
      "execution_count": null,
      "outputs": []
    },
    {
      "cell_type": "code",
      "source": [
        "ytb_instance_2.get_id()"
      ],
      "metadata": {
        "id": "GxQwC6CgIIRM"
      },
      "execution_count": null,
      "outputs": []
    },
    {
      "cell_type": "code",
      "source": [
        "ytb_instance_2.get_info()"
      ],
      "metadata": {
        "id": "F8QFV3YhIP3j"
      },
      "execution_count": null,
      "outputs": []
    },
    {
      "cell_type": "code",
      "source": [
        "d={'Video ID': ytb_instance_2.list_id, 'Title': ytb_instance_2.list_title, 'Description': ytb_instance_2.list_description, 'Searchterm': ytb_instance_2.tag_list, 'Keywords': ytb_instance_2.list_keywords}\n",
        "df = pd.DataFrame(data=d)"
      ],
      "metadata": {
        "id": "5sBG-7_HIUne"
      },
      "execution_count": null,
      "outputs": []
    },
    {
      "cell_type": "code",
      "source": [
        "df.to_csv('/content/drive/MyDrive/dataset/Youtube/YoutubeDataEducation.csv', encoding='utf-8',index=False)"
      ],
      "metadata": {
        "id": "uQhsPvSuIp6O"
      },
      "execution_count": null,
      "outputs": []
    },
    {
      "cell_type": "markdown",
      "source": [
        "## 3.3. Gaming"
      ],
      "metadata": {
        "id": "5e7z85HiFVJT"
      }
    },
    {
      "cell_type": "code",
      "source": [
        "ytb_instance_3 = YoutubeScraper(SEARCH_LIST_3, 300)"
      ],
      "metadata": {
        "id": "9OPJPUcWIDFe"
      },
      "execution_count": null,
      "outputs": []
    },
    {
      "cell_type": "code",
      "source": [
        "ytb_instance_3.get_id()"
      ],
      "metadata": {
        "id": "tfCUxA6ZIIx4"
      },
      "execution_count": null,
      "outputs": []
    },
    {
      "cell_type": "code",
      "source": [
        "ytb_instance_3.get_info()"
      ],
      "metadata": {
        "id": "Be3uM39VISOI"
      },
      "execution_count": null,
      "outputs": []
    },
    {
      "cell_type": "code",
      "source": [
        "d={'Video ID': ytb_instance_3.list_id, 'Title': ytb_instance_3.list_title, 'Description': ytb_instance_3.list_description, 'Searchterm': ytb_instance_3.tag_list, 'Keywords': ytb_instance_3.list_keywords}\n",
        "df = pd.DataFrame(data=d)"
      ],
      "metadata": {
        "id": "iE4eG8QOIeDV"
      },
      "execution_count": null,
      "outputs": []
    },
    {
      "cell_type": "code",
      "source": [
        "df.to_csv('/content/drive/MyDrive/dataset/Youtube/YoutubeDataGaming.csv', encoding='utf-8',index=False)"
      ],
      "metadata": {
        "id": "zB34QUbiIpes"
      },
      "execution_count": null,
      "outputs": []
    },
    {
      "cell_type": "markdown",
      "source": [
        "# Dataset Overview"
      ],
      "metadata": {
        "id": "MfAXlHXYyp4d"
      }
    },
    {
      "cell_type": "code",
      "source": [
        "import pandas as pd"
      ],
      "metadata": {
        "id": "snk115IwzBNm"
      },
      "execution_count": null,
      "outputs": []
    },
    {
      "cell_type": "code",
      "source": [
        "edu = pd.read_csv(\"/content/drive/MyDrive/dataset/Youtube/YoutubeDataEducation.csv\")"
      ],
      "metadata": {
        "id": "czx5McJEyu_b"
      },
      "execution_count": null,
      "outputs": []
    },
    {
      "cell_type": "code",
      "source": [
        "gaming = pd.read_csv(\"/content/drive/MyDrive/dataset/Youtube/YoutubeDataGaming.csv\")"
      ],
      "metadata": {
        "id": "hI08Zh7TzHqr"
      },
      "execution_count": null,
      "outputs": []
    },
    {
      "cell_type": "code",
      "source": [
        "fashion = pd.read_csv(\"/content/drive/MyDrive/dataset/Youtube/YoutubeDataFashion.csv\")"
      ],
      "metadata": {
        "id": "q2qT-0xBzOP7"
      },
      "execution_count": null,
      "outputs": []
    },
    {
      "cell_type": "code",
      "source": [
        "edu.shape"
      ],
      "metadata": {
        "colab": {
          "base_uri": "https://localhost:8080/"
        },
        "id": "rjHK7p3ezn03",
        "outputId": "b354c8d1-76f0-4ef4-da69-27776dbde03d"
      },
      "execution_count": null,
      "outputs": [
        {
          "output_type": "execute_result",
          "data": {
            "text/plain": [
              "(2096, 5)"
            ]
          },
          "metadata": {},
          "execution_count": 6
        }
      ]
    },
    {
      "cell_type": "code",
      "source": [
        "print(f'Dữ liệu thô về giáo dục có {edu.shape[0]} dòng')\n",
        "print(f'Dữ liệu thô về thời trang có {fashion.shape[0]} dòng')\n",
        "print(f'Dữ liệu thô về gaming có {gaming.shape[0]} dòng')"
      ],
      "metadata": {
        "colab": {
          "base_uri": "https://localhost:8080/"
        },
        "id": "_HIF3fRJzOVg",
        "outputId": "7b60cdb0-7c24-48a4-c810-babe6f435268"
      },
      "execution_count": null,
      "outputs": [
        {
          "output_type": "stream",
          "name": "stdout",
          "text": [
            "Dữ liệu thô về giáo dục có 2096 dòng\n",
            "Dữ liệu thô về thời trang có 2100 dòng\n",
            "Dữ liệu thô về gaming có 2078 dòng\n"
          ]
        }
      ]
    },
    {
      "cell_type": "code",
      "source": [
        "edu.head()"
      ],
      "metadata": {
        "id": "22uROpZO0KM6",
        "outputId": "db520211-e5ac-4424-f168-e1b8c981a5ab",
        "colab": {
          "base_uri": "https://localhost:8080/",
          "height": 250
        }
      },
      "execution_count": null,
      "outputs": [
        {
          "output_type": "execute_result",
          "data": {
            "text/plain": [
              "      Video ID                                              Title  \\\n",
              "0  KqwNoxWU-CM  Giáo dục 24/7: Cập nhật lịch đi học trực tiếp ...   \n",
              "1  UL7JFReouNQ  3 trụ cột Giáo Dục Hỏng , Đẩy học sinh vào đườ...   \n",
              "2  GSIyO3IsQjM  Chữa Đề Tham Khảo Kỳ Thi Tốt Nghiệp THPT 2022│...   \n",
              "3  dpEFsPbUUnE  Tư tưởng của Hồ Chí Minh về giáo dục | GS. Hoà...   \n",
              "4  64Grw66GdoM       Phật Giáo Hòa Hảo - Một Nền Giáo Dục Phổ Thế   \n",
              "\n",
              "                                         Description Searchterm  \\\n",
              "0  BÁO LAO ĐỘNG |\\nGiáo dục 24/7: Phân tích rủi r...   giáo dục   \n",
              "1                                                NaN   giáo dục   \n",
              "2  Chữa đề tham khảo (minh họa) thi tốt nghiệp TH...   giáo dục   \n",
              "3  Những câu chuyện về những người anh hùng dân t...   giáo dục   \n",
              "4  Chúng ta nhìn lại những người sáng lập các tôn...   giáo dục   \n",
              "\n",
              "                                            Keywords  \n",
              "0  ['báo lao động', 'bao lao dong', 'bld', 'lao d...  \n",
              "1                                                 []  \n",
              "2  ['#ChuademinhhoacuaBo', 'Chữa đề minh họa của ...  \n",
              "3  ['Đoàn thanh niên', 'Giáo viên', 'Học sinh', '...  \n",
              "4  ['giáo dục phổ thế', 'phật giáo hòa hảo', 'giá...  "
            ],
            "text/html": [
              "\n",
              "  <div id=\"df-901324ab-bf5b-48d2-9021-81d4fb20a9c5\">\n",
              "    <div class=\"colab-df-container\">\n",
              "      <div>\n",
              "<style scoped>\n",
              "    .dataframe tbody tr th:only-of-type {\n",
              "        vertical-align: middle;\n",
              "    }\n",
              "\n",
              "    .dataframe tbody tr th {\n",
              "        vertical-align: top;\n",
              "    }\n",
              "\n",
              "    .dataframe thead th {\n",
              "        text-align: right;\n",
              "    }\n",
              "</style>\n",
              "<table border=\"1\" class=\"dataframe\">\n",
              "  <thead>\n",
              "    <tr style=\"text-align: right;\">\n",
              "      <th></th>\n",
              "      <th>Video ID</th>\n",
              "      <th>Title</th>\n",
              "      <th>Description</th>\n",
              "      <th>Searchterm</th>\n",
              "      <th>Keywords</th>\n",
              "    </tr>\n",
              "  </thead>\n",
              "  <tbody>\n",
              "    <tr>\n",
              "      <th>0</th>\n",
              "      <td>KqwNoxWU-CM</td>\n",
              "      <td>Giáo dục 24/7: Cập nhật lịch đi học trực tiếp ...</td>\n",
              "      <td>BÁO LAO ĐỘNG |\\nGiáo dục 24/7: Phân tích rủi r...</td>\n",
              "      <td>giáo dục</td>\n",
              "      <td>['báo lao động', 'bao lao dong', 'bld', 'lao d...</td>\n",
              "    </tr>\n",
              "    <tr>\n",
              "      <th>1</th>\n",
              "      <td>UL7JFReouNQ</td>\n",
              "      <td>3 trụ cột Giáo Dục Hỏng , Đẩy học sinh vào đườ...</td>\n",
              "      <td>NaN</td>\n",
              "      <td>giáo dục</td>\n",
              "      <td>[]</td>\n",
              "    </tr>\n",
              "    <tr>\n",
              "      <th>2</th>\n",
              "      <td>GSIyO3IsQjM</td>\n",
              "      <td>Chữa Đề Tham Khảo Kỳ Thi Tốt Nghiệp THPT 2022│...</td>\n",
              "      <td>Chữa đề tham khảo (minh họa) thi tốt nghiệp TH...</td>\n",
              "      <td>giáo dục</td>\n",
              "      <td>['#ChuademinhhoacuaBo', 'Chữa đề minh họa của ...</td>\n",
              "    </tr>\n",
              "    <tr>\n",
              "      <th>3</th>\n",
              "      <td>dpEFsPbUUnE</td>\n",
              "      <td>Tư tưởng của Hồ Chí Minh về giáo dục | GS. Hoà...</td>\n",
              "      <td>Những câu chuyện về những người anh hùng dân t...</td>\n",
              "      <td>giáo dục</td>\n",
              "      <td>['Đoàn thanh niên', 'Giáo viên', 'Học sinh', '...</td>\n",
              "    </tr>\n",
              "    <tr>\n",
              "      <th>4</th>\n",
              "      <td>64Grw66GdoM</td>\n",
              "      <td>Phật Giáo Hòa Hảo - Một Nền Giáo Dục Phổ Thế</td>\n",
              "      <td>Chúng ta nhìn lại những người sáng lập các tôn...</td>\n",
              "      <td>giáo dục</td>\n",
              "      <td>['giáo dục phổ thế', 'phật giáo hòa hảo', 'giá...</td>\n",
              "    </tr>\n",
              "  </tbody>\n",
              "</table>\n",
              "</div>\n",
              "      <button class=\"colab-df-convert\" onclick=\"convertToInteractive('df-901324ab-bf5b-48d2-9021-81d4fb20a9c5')\"\n",
              "              title=\"Convert this dataframe to an interactive table.\"\n",
              "              style=\"display:none;\">\n",
              "        \n",
              "  <svg xmlns=\"http://www.w3.org/2000/svg\" height=\"24px\"viewBox=\"0 0 24 24\"\n",
              "       width=\"24px\">\n",
              "    <path d=\"M0 0h24v24H0V0z\" fill=\"none\"/>\n",
              "    <path d=\"M18.56 5.44l.94 2.06.94-2.06 2.06-.94-2.06-.94-.94-2.06-.94 2.06-2.06.94zm-11 1L8.5 8.5l.94-2.06 2.06-.94-2.06-.94L8.5 2.5l-.94 2.06-2.06.94zm10 10l.94 2.06.94-2.06 2.06-.94-2.06-.94-.94-2.06-.94 2.06-2.06.94z\"/><path d=\"M17.41 7.96l-1.37-1.37c-.4-.4-.92-.59-1.43-.59-.52 0-1.04.2-1.43.59L10.3 9.45l-7.72 7.72c-.78.78-.78 2.05 0 2.83L4 21.41c.39.39.9.59 1.41.59.51 0 1.02-.2 1.41-.59l7.78-7.78 2.81-2.81c.8-.78.8-2.07 0-2.86zM5.41 20L4 18.59l7.72-7.72 1.47 1.35L5.41 20z\"/>\n",
              "  </svg>\n",
              "      </button>\n",
              "      \n",
              "  <style>\n",
              "    .colab-df-container {\n",
              "      display:flex;\n",
              "      flex-wrap:wrap;\n",
              "      gap: 12px;\n",
              "    }\n",
              "\n",
              "    .colab-df-convert {\n",
              "      background-color: #E8F0FE;\n",
              "      border: none;\n",
              "      border-radius: 50%;\n",
              "      cursor: pointer;\n",
              "      display: none;\n",
              "      fill: #1967D2;\n",
              "      height: 32px;\n",
              "      padding: 0 0 0 0;\n",
              "      width: 32px;\n",
              "    }\n",
              "\n",
              "    .colab-df-convert:hover {\n",
              "      background-color: #E2EBFA;\n",
              "      box-shadow: 0px 1px 2px rgba(60, 64, 67, 0.3), 0px 1px 3px 1px rgba(60, 64, 67, 0.15);\n",
              "      fill: #174EA6;\n",
              "    }\n",
              "\n",
              "    [theme=dark] .colab-df-convert {\n",
              "      background-color: #3B4455;\n",
              "      fill: #D2E3FC;\n",
              "    }\n",
              "\n",
              "    [theme=dark] .colab-df-convert:hover {\n",
              "      background-color: #434B5C;\n",
              "      box-shadow: 0px 1px 3px 1px rgba(0, 0, 0, 0.15);\n",
              "      filter: drop-shadow(0px 1px 2px rgba(0, 0, 0, 0.3));\n",
              "      fill: #FFFFFF;\n",
              "    }\n",
              "  </style>\n",
              "\n",
              "      <script>\n",
              "        const buttonEl =\n",
              "          document.querySelector('#df-901324ab-bf5b-48d2-9021-81d4fb20a9c5 button.colab-df-convert');\n",
              "        buttonEl.style.display =\n",
              "          google.colab.kernel.accessAllowed ? 'block' : 'none';\n",
              "\n",
              "        async function convertToInteractive(key) {\n",
              "          const element = document.querySelector('#df-901324ab-bf5b-48d2-9021-81d4fb20a9c5');\n",
              "          const dataTable =\n",
              "            await google.colab.kernel.invokeFunction('convertToInteractive',\n",
              "                                                     [key], {});\n",
              "          if (!dataTable) return;\n",
              "\n",
              "          const docLinkHtml = 'Like what you see? Visit the ' +\n",
              "            '<a target=\"_blank\" href=https://colab.research.google.com/notebooks/data_table.ipynb>data table notebook</a>'\n",
              "            + ' to learn more about interactive tables.';\n",
              "          element.innerHTML = '';\n",
              "          dataTable['output_type'] = 'display_data';\n",
              "          await google.colab.output.renderOutput(dataTable, element);\n",
              "          const docLink = document.createElement('div');\n",
              "          docLink.innerHTML = docLinkHtml;\n",
              "          element.appendChild(docLink);\n",
              "        }\n",
              "      </script>\n",
              "    </div>\n",
              "  </div>\n",
              "  "
            ]
          },
          "metadata": {},
          "execution_count": 9
        }
      ]
    },
    {
      "cell_type": "code",
      "source": [
        "gaming_final = pd.DataFrame()\n",
        "gaming_final['Title'] = gaming['Title']\n",
        "gaming_final.loc[:,'Label'] = 'trò chơi'"
      ],
      "metadata": {
        "id": "GUtZKIKyNEQh"
      },
      "execution_count": null,
      "outputs": []
    },
    {
      "cell_type": "code",
      "source": [
        "gaming_final.head()"
      ],
      "metadata": {
        "colab": {
          "base_uri": "https://localhost:8080/",
          "height": 206
        },
        "id": "9QWrjYSZNms2",
        "outputId": "1da62bda-28cc-48d9-8462-48f4c364f8cf"
      },
      "execution_count": null,
      "outputs": [
        {
          "output_type": "execute_result",
          "data": {
            "text/plain": [
              "                                               Title     Label\n",
              "0     TÂM ĐIỂM TƯỚNG: BRIGHT [HƯỚNG DẪN CHƠI BRIGHT]  trò chơi\n",
              "1  TOP 1 Eland'orr | Đầu Game Bị Bán Hành Liệu Có...  trò chơi\n",
              "2  Câu chuyện của Om Nom - Nibble Nom 💯  Trò chơi...  trò chơi\n",
              "3      Game xưa - Super Mario - Ăn nấm cứu công chúa  trò chơi\n",
              "4  Cứ nghĩ game khó ai ngờ…? #4 Trở Thành Siêu Pr...  trò chơi"
            ],
            "text/html": [
              "\n",
              "  <div id=\"df-02eed861-efd7-42f8-837b-ffd54e37f12b\">\n",
              "    <div class=\"colab-df-container\">\n",
              "      <div>\n",
              "<style scoped>\n",
              "    .dataframe tbody tr th:only-of-type {\n",
              "        vertical-align: middle;\n",
              "    }\n",
              "\n",
              "    .dataframe tbody tr th {\n",
              "        vertical-align: top;\n",
              "    }\n",
              "\n",
              "    .dataframe thead th {\n",
              "        text-align: right;\n",
              "    }\n",
              "</style>\n",
              "<table border=\"1\" class=\"dataframe\">\n",
              "  <thead>\n",
              "    <tr style=\"text-align: right;\">\n",
              "      <th></th>\n",
              "      <th>Title</th>\n",
              "      <th>Label</th>\n",
              "    </tr>\n",
              "  </thead>\n",
              "  <tbody>\n",
              "    <tr>\n",
              "      <th>0</th>\n",
              "      <td>TÂM ĐIỂM TƯỚNG: BRIGHT [HƯỚNG DẪN CHƠI BRIGHT]</td>\n",
              "      <td>trò chơi</td>\n",
              "    </tr>\n",
              "    <tr>\n",
              "      <th>1</th>\n",
              "      <td>TOP 1 Eland'orr | Đầu Game Bị Bán Hành Liệu Có...</td>\n",
              "      <td>trò chơi</td>\n",
              "    </tr>\n",
              "    <tr>\n",
              "      <th>2</th>\n",
              "      <td>Câu chuyện của Om Nom - Nibble Nom 💯  Trò chơi...</td>\n",
              "      <td>trò chơi</td>\n",
              "    </tr>\n",
              "    <tr>\n",
              "      <th>3</th>\n",
              "      <td>Game xưa - Super Mario - Ăn nấm cứu công chúa</td>\n",
              "      <td>trò chơi</td>\n",
              "    </tr>\n",
              "    <tr>\n",
              "      <th>4</th>\n",
              "      <td>Cứ nghĩ game khó ai ngờ…? #4 Trở Thành Siêu Pr...</td>\n",
              "      <td>trò chơi</td>\n",
              "    </tr>\n",
              "  </tbody>\n",
              "</table>\n",
              "</div>\n",
              "      <button class=\"colab-df-convert\" onclick=\"convertToInteractive('df-02eed861-efd7-42f8-837b-ffd54e37f12b')\"\n",
              "              title=\"Convert this dataframe to an interactive table.\"\n",
              "              style=\"display:none;\">\n",
              "        \n",
              "  <svg xmlns=\"http://www.w3.org/2000/svg\" height=\"24px\"viewBox=\"0 0 24 24\"\n",
              "       width=\"24px\">\n",
              "    <path d=\"M0 0h24v24H0V0z\" fill=\"none\"/>\n",
              "    <path d=\"M18.56 5.44l.94 2.06.94-2.06 2.06-.94-2.06-.94-.94-2.06-.94 2.06-2.06.94zm-11 1L8.5 8.5l.94-2.06 2.06-.94-2.06-.94L8.5 2.5l-.94 2.06-2.06.94zm10 10l.94 2.06.94-2.06 2.06-.94-2.06-.94-.94-2.06-.94 2.06-2.06.94z\"/><path d=\"M17.41 7.96l-1.37-1.37c-.4-.4-.92-.59-1.43-.59-.52 0-1.04.2-1.43.59L10.3 9.45l-7.72 7.72c-.78.78-.78 2.05 0 2.83L4 21.41c.39.39.9.59 1.41.59.51 0 1.02-.2 1.41-.59l7.78-7.78 2.81-2.81c.8-.78.8-2.07 0-2.86zM5.41 20L4 18.59l7.72-7.72 1.47 1.35L5.41 20z\"/>\n",
              "  </svg>\n",
              "      </button>\n",
              "      \n",
              "  <style>\n",
              "    .colab-df-container {\n",
              "      display:flex;\n",
              "      flex-wrap:wrap;\n",
              "      gap: 12px;\n",
              "    }\n",
              "\n",
              "    .colab-df-convert {\n",
              "      background-color: #E8F0FE;\n",
              "      border: none;\n",
              "      border-radius: 50%;\n",
              "      cursor: pointer;\n",
              "      display: none;\n",
              "      fill: #1967D2;\n",
              "      height: 32px;\n",
              "      padding: 0 0 0 0;\n",
              "      width: 32px;\n",
              "    }\n",
              "\n",
              "    .colab-df-convert:hover {\n",
              "      background-color: #E2EBFA;\n",
              "      box-shadow: 0px 1px 2px rgba(60, 64, 67, 0.3), 0px 1px 3px 1px rgba(60, 64, 67, 0.15);\n",
              "      fill: #174EA6;\n",
              "    }\n",
              "\n",
              "    [theme=dark] .colab-df-convert {\n",
              "      background-color: #3B4455;\n",
              "      fill: #D2E3FC;\n",
              "    }\n",
              "\n",
              "    [theme=dark] .colab-df-convert:hover {\n",
              "      background-color: #434B5C;\n",
              "      box-shadow: 0px 1px 3px 1px rgba(0, 0, 0, 0.15);\n",
              "      filter: drop-shadow(0px 1px 2px rgba(0, 0, 0, 0.3));\n",
              "      fill: #FFFFFF;\n",
              "    }\n",
              "  </style>\n",
              "\n",
              "      <script>\n",
              "        const buttonEl =\n",
              "          document.querySelector('#df-02eed861-efd7-42f8-837b-ffd54e37f12b button.colab-df-convert');\n",
              "        buttonEl.style.display =\n",
              "          google.colab.kernel.accessAllowed ? 'block' : 'none';\n",
              "\n",
              "        async function convertToInteractive(key) {\n",
              "          const element = document.querySelector('#df-02eed861-efd7-42f8-837b-ffd54e37f12b');\n",
              "          const dataTable =\n",
              "            await google.colab.kernel.invokeFunction('convertToInteractive',\n",
              "                                                     [key], {});\n",
              "          if (!dataTable) return;\n",
              "\n",
              "          const docLinkHtml = 'Like what you see? Visit the ' +\n",
              "            '<a target=\"_blank\" href=https://colab.research.google.com/notebooks/data_table.ipynb>data table notebook</a>'\n",
              "            + ' to learn more about interactive tables.';\n",
              "          element.innerHTML = '';\n",
              "          dataTable['output_type'] = 'display_data';\n",
              "          await google.colab.output.renderOutput(dataTable, element);\n",
              "          const docLink = document.createElement('div');\n",
              "          docLink.innerHTML = docLinkHtml;\n",
              "          element.appendChild(docLink);\n",
              "        }\n",
              "      </script>\n",
              "    </div>\n",
              "  </div>\n",
              "  "
            ]
          },
          "metadata": {},
          "execution_count": 26
        }
      ]
    },
    {
      "cell_type": "code",
      "source": [
        "gaming_final.to_excel(\"/content/drive/MyDrive/Do_An Machine Learning 2022/Data_Check_Nhan/11_Gaming.xlsx\")"
      ],
      "metadata": {
        "id": "WqJUOc2HMO-A"
      },
      "execution_count": null,
      "outputs": []
    }
  ],
  "metadata": {
    "colab": {
      "name": "YoutubeScraper.ipynb",
      "provenance": [],
      "collapsed_sections": []
    },
    "kernelspec": {
      "display_name": "Python 3",
      "name": "python3"
    },
    "language_info": {
      "name": "python"
    }
  },
  "nbformat": 4,
  "nbformat_minor": 0
}